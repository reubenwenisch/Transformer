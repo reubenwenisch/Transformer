{
  "cells": [
    {
      "cell_type": "markdown",
      "metadata": {
        "id": "view-in-github",
        "colab_type": "text"
      },
      "source": [
        "<a href=\"https://colab.research.google.com/github/reubenwenisch/Transformer/blob/main/spacial_transformer.ipynb\" target=\"_parent\"><img src=\"https://colab.research.google.com/assets/colab-badge.svg\" alt=\"Open In Colab\"/></a>"
      ]
    },
    {
      "cell_type": "markdown",
      "metadata": {
        "id": "w6izmRTWqW2F"
      },
      "source": [
        "# Spatial Transformer Networks"
      ]
    },
    {
      "cell_type": "code",
      "source": [
        "from google.colab import drive\n",
        "drive.mount('/content/gdrive')"
      ],
      "metadata": {
        "colab": {
          "base_uri": "https://localhost:8080/"
        },
        "id": "yeC2yxE-qrUh",
        "outputId": "379b2f1d-ea84-4cc9-afa9-7b56656322fc"
      },
      "execution_count": 1,
      "outputs": [
        {
          "output_type": "stream",
          "name": "stdout",
          "text": [
            "Drive already mounted at /content/gdrive; to attempt to forcibly remount, call drive.mount(\"/content/gdrive\", force_remount=True).\n"
          ]
        }
      ]
    },
    {
      "cell_type": "code",
      "source": [
        "# !git clone https://github.com/reubenwenisch/Transformer.git"
      ],
      "metadata": {
        "id": "BS-CDDhyqxYC"
      },
      "execution_count": 2,
      "outputs": []
    },
    {
      "cell_type": "code",
      "source": [
        "cd '/content/gdrive/MyDrive/Learn/Transformer'"
      ],
      "metadata": {
        "colab": {
          "base_uri": "https://localhost:8080/"
        },
        "id": "7JsB81wZrs6G",
        "outputId": "22935b57-b730-42f4-d3b3-a7d7e12edf63"
      },
      "execution_count": 3,
      "outputs": [
        {
          "output_type": "stream",
          "name": "stdout",
          "text": [
            "/content/gdrive/MyDrive/Learn/Transformer\n"
          ]
        }
      ]
    },
    {
      "cell_type": "markdown",
      "metadata": {
        "id": "B_vZ7gt7qW2H"
      },
      "source": [
        "### Import"
      ]
    },
    {
      "cell_type": "code",
      "execution_count": 4,
      "metadata": {
        "id": "QsnO_hTRqW2J"
      },
      "outputs": [],
      "source": [
        "# License: BSD\n",
        "# Author: Ghassen Hamrouni\n",
        "\n",
        "from __future__ import print_function\n",
        "import torch\n",
        "import torch.nn as nn\n",
        "import torch.nn.functional as F\n",
        "import torch.optim as optim\n",
        "import torchvision\n",
        "from torchvision import datasets, transforms\n",
        "import matplotlib.pyplot as plt\n",
        "import numpy as np\n",
        "\n",
        "plt.ion()   # interactive mode"
      ]
    },
    {
      "cell_type": "markdown",
      "metadata": {
        "id": "owyh9yVdqW2N"
      },
      "source": [
        "### Loading the data"
      ]
    },
    {
      "cell_type": "code",
      "execution_count": 5,
      "metadata": {
        "colab": {
          "base_uri": "https://localhost:8080/"
        },
        "id": "8uJtEuRqqW2O",
        "outputId": "233fc0ae-a802-44c5-93cd-f0f9db0a2007"
      },
      "outputs": [
        {
          "output_type": "stream",
          "name": "stderr",
          "text": [
            "/usr/local/lib/python3.7/dist-packages/torch/utils/data/dataloader.py:481: UserWarning: This DataLoader will create 4 worker processes in total. Our suggested max number of worker in current system is 2, which is smaller than what this DataLoader is going to create. Please be aware that excessive worker creation might get DataLoader running slow or even freeze, lower the worker number to avoid potential slowness/freeze if necessary.\n",
            "  cpuset_checked))\n"
          ]
        }
      ],
      "source": [
        "device = torch.device(\"cuda\" if torch.cuda.is_available() else \"cpu\")\n",
        "\n",
        "# Training dataset\n",
        "train_loader = torch.utils.data.DataLoader(\n",
        "    datasets.MNIST(root='.', train=True, download=True,\n",
        "                   transform=transforms.Compose([\n",
        "                       transforms.ToTensor(),\n",
        "                       transforms.Normalize((0.1307,), (0.3081,))\n",
        "                   ])), batch_size=64, shuffle=True, num_workers=4)\n",
        "# Test dataset\n",
        "test_loader = torch.utils.data.DataLoader(\n",
        "    datasets.MNIST(root='.', train=False, transform=transforms.Compose([\n",
        "        transforms.ToTensor(),\n",
        "        transforms.Normalize((0.1307,), (0.3081,))\n",
        "    ])), batch_size=64, shuffle=True, num_workers=4)"
      ]
    },
    {
      "cell_type": "code",
      "execution_count": 6,
      "metadata": {
        "id": "_j4Nhk8eqW2P"
      },
      "outputs": [],
      "source": [
        "from model import Net\n",
        "\n",
        "model = Net().to(device)"
      ]
    },
    {
      "cell_type": "markdown",
      "metadata": {
        "id": "49RRkQ-jqW2Q"
      },
      "source": [
        "### Training the model"
      ]
    },
    {
      "cell_type": "code",
      "execution_count": 8,
      "metadata": {
        "id": "CsJsTlOnqW2R",
        "colab": {
          "base_uri": "https://localhost:8080/"
        },
        "outputId": "de84bcc8-95a7-4f76-c9ee-3682be715f53"
      },
      "outputs": [
        {
          "output_type": "stream",
          "name": "stderr",
          "text": [
            "/usr/local/lib/python3.7/dist-packages/torch/utils/data/dataloader.py:481: UserWarning: This DataLoader will create 4 worker processes in total. Our suggested max number of worker in current system is 2, which is smaller than what this DataLoader is going to create. Please be aware that excessive worker creation might get DataLoader running slow or even freeze, lower the worker number to avoid potential slowness/freeze if necessary.\n",
            "  cpuset_checked))\n",
            "/usr/local/lib/python3.7/dist-packages/torch/nn/functional.py:4066: UserWarning: Default grid_sample and affine_grid behavior has changed to align_corners=False since 1.3.0. Please specify align_corners=True if the old behavior is desired. See the documentation of grid_sample for details.\n",
            "  \"Default grid_sample and affine_grid behavior has changed \"\n",
            "/usr/local/lib/python3.7/dist-packages/torch/nn/functional.py:4004: UserWarning: Default grid_sample and affine_grid behavior has changed to align_corners=False since 1.3.0. Please specify align_corners=True if the old behavior is desired. See the documentation of grid_sample for details.\n",
            "  \"Default grid_sample and affine_grid behavior has changed \"\n"
          ]
        },
        {
          "output_type": "stream",
          "name": "stdout",
          "text": [
            "Train Epoch: 1 [0/60000 (0%)]\tLoss: 0.204099\n",
            "Train Epoch: 1 [32000/60000 (53%)]\tLoss: 0.509506\n"
          ]
        },
        {
          "output_type": "stream",
          "name": "stderr",
          "text": [
            "/usr/local/lib/python3.7/dist-packages/torch/nn/_reduction.py:42: UserWarning: size_average and reduce args will be deprecated, please use reduction='sum' instead.\n",
            "  warnings.warn(warning.format(ret))\n"
          ]
        },
        {
          "output_type": "stream",
          "name": "stdout",
          "text": [
            "\n",
            "Test set: Average loss: 0.0835, Accuracy: 9750/10000 (98%)\n",
            "\n",
            "Train Epoch: 2 [0/60000 (0%)]\tLoss: 0.160442\n",
            "Train Epoch: 2 [32000/60000 (53%)]\tLoss: 0.218152\n",
            "\n",
            "Test set: Average loss: 0.0816, Accuracy: 9735/10000 (97%)\n",
            "\n",
            "Train Epoch: 3 [0/60000 (0%)]\tLoss: 0.128171\n",
            "Train Epoch: 3 [32000/60000 (53%)]\tLoss: 0.111586\n",
            "\n",
            "Test set: Average loss: 0.0641, Accuracy: 9794/10000 (98%)\n",
            "\n",
            "Train Epoch: 4 [0/60000 (0%)]\tLoss: 0.072463\n",
            "Train Epoch: 4 [32000/60000 (53%)]\tLoss: 0.449378\n",
            "\n",
            "Test set: Average loss: 0.1268, Accuracy: 9619/10000 (96%)\n",
            "\n",
            "Train Epoch: 5 [0/60000 (0%)]\tLoss: 0.207265\n",
            "Train Epoch: 5 [32000/60000 (53%)]\tLoss: 0.031299\n",
            "\n",
            "Test set: Average loss: 0.0540, Accuracy: 9825/10000 (98%)\n",
            "\n",
            "Train Epoch: 6 [0/60000 (0%)]\tLoss: 0.072206\n",
            "Train Epoch: 6 [32000/60000 (53%)]\tLoss: 0.205485\n",
            "\n",
            "Test set: Average loss: 0.0850, Accuracy: 9744/10000 (97%)\n",
            "\n",
            "Train Epoch: 7 [0/60000 (0%)]\tLoss: 0.131919\n",
            "Train Epoch: 7 [32000/60000 (53%)]\tLoss: 0.053527\n",
            "\n",
            "Test set: Average loss: 0.0523, Accuracy: 9846/10000 (98%)\n",
            "\n",
            "Train Epoch: 8 [0/60000 (0%)]\tLoss: 0.088091\n",
            "Train Epoch: 8 [32000/60000 (53%)]\tLoss: 0.043468\n",
            "\n",
            "Test set: Average loss: 0.0544, Accuracy: 9826/10000 (98%)\n",
            "\n",
            "Train Epoch: 9 [0/60000 (0%)]\tLoss: 0.238525\n",
            "Train Epoch: 9 [32000/60000 (53%)]\tLoss: 0.064742\n",
            "\n",
            "Test set: Average loss: 0.0543, Accuracy: 9835/10000 (98%)\n",
            "\n",
            "Train Epoch: 10 [0/60000 (0%)]\tLoss: 0.041460\n",
            "Train Epoch: 10 [32000/60000 (53%)]\tLoss: 0.144469\n",
            "\n",
            "Test set: Average loss: 0.0537, Accuracy: 9843/10000 (98%)\n",
            "\n",
            "Train Epoch: 11 [0/60000 (0%)]\tLoss: 0.078295\n",
            "Train Epoch: 11 [32000/60000 (53%)]\tLoss: 0.052004\n",
            "\n",
            "Test set: Average loss: 0.1051, Accuracy: 9678/10000 (97%)\n",
            "\n",
            "Train Epoch: 12 [0/60000 (0%)]\tLoss: 0.054408\n",
            "Train Epoch: 12 [32000/60000 (53%)]\tLoss: 0.042989\n",
            "\n",
            "Test set: Average loss: 0.0788, Accuracy: 9792/10000 (98%)\n",
            "\n",
            "Train Epoch: 13 [0/60000 (0%)]\tLoss: 0.176167\n",
            "Train Epoch: 13 [32000/60000 (53%)]\tLoss: 0.052340\n",
            "\n",
            "Test set: Average loss: 0.0519, Accuracy: 9852/10000 (99%)\n",
            "\n",
            "Train Epoch: 14 [0/60000 (0%)]\tLoss: 0.080872\n",
            "Train Epoch: 14 [32000/60000 (53%)]\tLoss: 0.071583\n",
            "\n",
            "Test set: Average loss: 0.0470, Accuracy: 9863/10000 (99%)\n",
            "\n",
            "Train Epoch: 15 [0/60000 (0%)]\tLoss: 0.021243\n",
            "Train Epoch: 15 [32000/60000 (53%)]\tLoss: 0.220612\n",
            "\n",
            "Test set: Average loss: 0.1315, Accuracy: 9612/10000 (96%)\n",
            "\n",
            "Train Epoch: 16 [0/60000 (0%)]\tLoss: 0.252186\n",
            "Train Epoch: 16 [32000/60000 (53%)]\tLoss: 0.033724\n",
            "\n",
            "Test set: Average loss: 0.0447, Accuracy: 9872/10000 (99%)\n",
            "\n",
            "Train Epoch: 17 [0/60000 (0%)]\tLoss: 0.033956\n",
            "Train Epoch: 17 [32000/60000 (53%)]\tLoss: 0.226747\n",
            "\n",
            "Test set: Average loss: 0.0572, Accuracy: 9840/10000 (98%)\n",
            "\n",
            "Train Epoch: 18 [0/60000 (0%)]\tLoss: 0.169637\n",
            "Train Epoch: 18 [32000/60000 (53%)]\tLoss: 0.078790\n",
            "\n",
            "Test set: Average loss: 0.0469, Accuracy: 9867/10000 (99%)\n",
            "\n",
            "Train Epoch: 19 [0/60000 (0%)]\tLoss: 0.039028\n",
            "Train Epoch: 19 [32000/60000 (53%)]\tLoss: 0.230197\n",
            "\n",
            "Test set: Average loss: 0.0403, Accuracy: 9880/10000 (99%)\n",
            "\n",
            "Train Epoch: 20 [0/60000 (0%)]\tLoss: 0.069858\n",
            "Train Epoch: 20 [32000/60000 (53%)]\tLoss: 0.111057\n",
            "\n",
            "Test set: Average loss: 0.0409, Accuracy: 9879/10000 (99%)\n",
            "\n",
            "Train Epoch: 21 [0/60000 (0%)]\tLoss: 0.023178\n",
            "Train Epoch: 21 [32000/60000 (53%)]\tLoss: 0.014777\n",
            "\n",
            "Test set: Average loss: 0.0413, Accuracy: 9876/10000 (99%)\n",
            "\n",
            "Train Epoch: 22 [0/60000 (0%)]\tLoss: 0.094679\n",
            "Train Epoch: 22 [32000/60000 (53%)]\tLoss: 0.085039\n",
            "\n",
            "Test set: Average loss: 0.0447, Accuracy: 9867/10000 (99%)\n",
            "\n",
            "Train Epoch: 23 [0/60000 (0%)]\tLoss: 0.078912\n",
            "Train Epoch: 23 [32000/60000 (53%)]\tLoss: 0.094172\n",
            "\n",
            "Test set: Average loss: 0.0417, Accuracy: 9872/10000 (99%)\n",
            "\n",
            "Train Epoch: 24 [0/60000 (0%)]\tLoss: 0.142931\n",
            "Train Epoch: 24 [32000/60000 (53%)]\tLoss: 0.055449\n",
            "\n",
            "Test set: Average loss: 0.0394, Accuracy: 9885/10000 (99%)\n",
            "\n",
            "Train Epoch: 25 [0/60000 (0%)]\tLoss: 0.019945\n",
            "Train Epoch: 25 [32000/60000 (53%)]\tLoss: 0.152696\n",
            "\n",
            "Test set: Average loss: 0.0461, Accuracy: 9874/10000 (99%)\n",
            "\n",
            "Train Epoch: 26 [0/60000 (0%)]\tLoss: 0.138332\n",
            "Train Epoch: 26 [32000/60000 (53%)]\tLoss: 0.095883\n",
            "\n",
            "Test set: Average loss: 0.1608, Accuracy: 9593/10000 (96%)\n",
            "\n",
            "Train Epoch: 27 [0/60000 (0%)]\tLoss: 0.064722\n",
            "Train Epoch: 27 [32000/60000 (53%)]\tLoss: 0.039697\n",
            "\n",
            "Test set: Average loss: 0.0550, Accuracy: 9863/10000 (99%)\n",
            "\n",
            "Train Epoch: 28 [0/60000 (0%)]\tLoss: 0.124665\n",
            "Train Epoch: 28 [32000/60000 (53%)]\tLoss: 0.180228\n",
            "\n",
            "Test set: Average loss: 0.0376, Accuracy: 9884/10000 (99%)\n",
            "\n",
            "Train Epoch: 29 [0/60000 (0%)]\tLoss: 0.016520\n",
            "Train Epoch: 29 [32000/60000 (53%)]\tLoss: 0.023845\n",
            "\n",
            "Test set: Average loss: 0.0496, Accuracy: 9873/10000 (99%)\n",
            "\n",
            "Train Epoch: 30 [0/60000 (0%)]\tLoss: 0.027872\n",
            "Train Epoch: 30 [32000/60000 (53%)]\tLoss: 0.037342\n",
            "\n",
            "Test set: Average loss: 0.0447, Accuracy: 9873/10000 (99%)\n",
            "\n",
            "Train Epoch: 31 [0/60000 (0%)]\tLoss: 0.048951\n",
            "Train Epoch: 31 [32000/60000 (53%)]\tLoss: 0.050638\n",
            "\n",
            "Test set: Average loss: 0.0373, Accuracy: 9893/10000 (99%)\n",
            "\n",
            "Train Epoch: 32 [0/60000 (0%)]\tLoss: 0.029023\n",
            "Train Epoch: 32 [32000/60000 (53%)]\tLoss: 0.031166\n",
            "\n",
            "Test set: Average loss: 0.0470, Accuracy: 9869/10000 (99%)\n",
            "\n",
            "Train Epoch: 33 [0/60000 (0%)]\tLoss: 0.015322\n",
            "Train Epoch: 33 [32000/60000 (53%)]\tLoss: 0.028160\n",
            "\n",
            "Test set: Average loss: 0.0397, Accuracy: 9894/10000 (99%)\n",
            "\n",
            "Train Epoch: 34 [0/60000 (0%)]\tLoss: 0.154878\n",
            "Train Epoch: 34 [32000/60000 (53%)]\tLoss: 0.012385\n",
            "\n",
            "Test set: Average loss: 0.0409, Accuracy: 9880/10000 (99%)\n",
            "\n",
            "Train Epoch: 35 [0/60000 (0%)]\tLoss: 0.030367\n",
            "Train Epoch: 35 [32000/60000 (53%)]\tLoss: 0.021491\n",
            "\n",
            "Test set: Average loss: 0.1323, Accuracy: 9611/10000 (96%)\n",
            "\n",
            "Train Epoch: 36 [0/60000 (0%)]\tLoss: 0.238577\n",
            "Train Epoch: 36 [32000/60000 (53%)]\tLoss: 0.033838\n",
            "\n",
            "Test set: Average loss: 0.0406, Accuracy: 9894/10000 (99%)\n",
            "\n",
            "Train Epoch: 37 [0/60000 (0%)]\tLoss: 0.123409\n",
            "Train Epoch: 37 [32000/60000 (53%)]\tLoss: 0.039425\n",
            "\n",
            "Test set: Average loss: 0.0458, Accuracy: 9873/10000 (99%)\n",
            "\n",
            "Train Epoch: 38 [0/60000 (0%)]\tLoss: 0.079206\n",
            "Train Epoch: 38 [32000/60000 (53%)]\tLoss: 0.244969\n",
            "\n",
            "Test set: Average loss: 0.0372, Accuracy: 9884/10000 (99%)\n",
            "\n",
            "Train Epoch: 39 [0/60000 (0%)]\tLoss: 0.080506\n",
            "Train Epoch: 39 [32000/60000 (53%)]\tLoss: 0.037861\n",
            "\n",
            "Test set: Average loss: 0.0327, Accuracy: 9895/10000 (99%)\n",
            "\n",
            "Train Epoch: 40 [0/60000 (0%)]\tLoss: 0.011356\n",
            "Train Epoch: 40 [32000/60000 (53%)]\tLoss: 0.054359\n",
            "\n",
            "Test set: Average loss: 0.0407, Accuracy: 9889/10000 (99%)\n",
            "\n",
            "Train Epoch: 41 [0/60000 (0%)]\tLoss: 0.030705\n",
            "Train Epoch: 41 [32000/60000 (53%)]\tLoss: 0.105266\n",
            "\n",
            "Test set: Average loss: 0.0458, Accuracy: 9871/10000 (99%)\n",
            "\n",
            "Train Epoch: 42 [0/60000 (0%)]\tLoss: 0.180092\n",
            "Train Epoch: 42 [32000/60000 (53%)]\tLoss: 0.118878\n",
            "\n",
            "Test set: Average loss: 0.0357, Accuracy: 9892/10000 (99%)\n",
            "\n",
            "Train Epoch: 43 [0/60000 (0%)]\tLoss: 0.028912\n",
            "Train Epoch: 43 [32000/60000 (53%)]\tLoss: 0.012592\n",
            "\n",
            "Test set: Average loss: 0.0359, Accuracy: 9891/10000 (99%)\n",
            "\n",
            "Train Epoch: 44 [0/60000 (0%)]\tLoss: 0.058897\n",
            "Train Epoch: 44 [32000/60000 (53%)]\tLoss: 0.228623\n",
            "\n",
            "Test set: Average loss: 0.0393, Accuracy: 9892/10000 (99%)\n",
            "\n",
            "Train Epoch: 45 [0/60000 (0%)]\tLoss: 0.100351\n",
            "Train Epoch: 45 [32000/60000 (53%)]\tLoss: 0.036264\n",
            "\n",
            "Test set: Average loss: 0.0366, Accuracy: 9885/10000 (99%)\n",
            "\n",
            "Train Epoch: 46 [0/60000 (0%)]\tLoss: 0.023622\n",
            "Train Epoch: 46 [32000/60000 (53%)]\tLoss: 0.047322\n",
            "\n",
            "Test set: Average loss: 0.0356, Accuracy: 9890/10000 (99%)\n",
            "\n",
            "Train Epoch: 47 [0/60000 (0%)]\tLoss: 0.050499\n",
            "Train Epoch: 47 [32000/60000 (53%)]\tLoss: 0.035796\n",
            "\n",
            "Test set: Average loss: 0.0340, Accuracy: 9900/10000 (99%)\n",
            "\n",
            "Train Epoch: 48 [0/60000 (0%)]\tLoss: 0.014621\n",
            "Train Epoch: 48 [32000/60000 (53%)]\tLoss: 0.018088\n",
            "\n",
            "Test set: Average loss: 0.0506, Accuracy: 9872/10000 (99%)\n",
            "\n",
            "Train Epoch: 49 [0/60000 (0%)]\tLoss: 0.015450\n",
            "Train Epoch: 49 [32000/60000 (53%)]\tLoss: 0.007398\n",
            "\n",
            "Test set: Average loss: 0.0365, Accuracy: 9889/10000 (99%)\n",
            "\n",
            "Train Epoch: 50 [0/60000 (0%)]\tLoss: 0.032109\n",
            "Train Epoch: 50 [32000/60000 (53%)]\tLoss: 0.050445\n",
            "\n",
            "Test set: Average loss: 0.0446, Accuracy: 9889/10000 (99%)\n",
            "\n"
          ]
        }
      ],
      "source": [
        "from main import train, test\n",
        "\n",
        "optimizer = optim.SGD(model.parameters(), lr=0.01)\n",
        "\n",
        "for epoch in range(1, 50 + 1):\n",
        "    train(epoch, model, optimizer, train_loader, device)\n",
        "    test(model, test_loader, device)"
      ]
    },
    {
      "cell_type": "markdown",
      "metadata": {
        "id": "j9MJrY7oqW2T"
      },
      "source": [
        "### Visualizing the STN results"
      ]
    },
    {
      "cell_type": "code",
      "execution_count": 10,
      "metadata": {
        "id": "hBZROHl3qW2V",
        "colab": {
          "base_uri": "https://localhost:8080/",
          "height": 340
        },
        "outputId": "158dfd3a-319a-4147-c87a-852ebcaa150b"
      },
      "outputs": [
        {
          "output_type": "stream",
          "name": "stderr",
          "text": [
            "/usr/local/lib/python3.7/dist-packages/torch/utils/data/dataloader.py:481: UserWarning: This DataLoader will create 4 worker processes in total. Our suggested max number of worker in current system is 2, which is smaller than what this DataLoader is going to create. Please be aware that excessive worker creation might get DataLoader running slow or even freeze, lower the worker number to avoid potential slowness/freeze if necessary.\n",
            "  cpuset_checked))\n",
            "/usr/local/lib/python3.7/dist-packages/torch/nn/functional.py:4066: UserWarning: Default grid_sample and affine_grid behavior has changed to align_corners=False since 1.3.0. Please specify align_corners=True if the old behavior is desired. See the documentation of grid_sample for details.\n",
            "  \"Default grid_sample and affine_grid behavior has changed \"\n",
            "/usr/local/lib/python3.7/dist-packages/torch/nn/functional.py:4004: UserWarning: Default grid_sample and affine_grid behavior has changed to align_corners=False since 1.3.0. Please specify align_corners=True if the old behavior is desired. See the documentation of grid_sample for details.\n",
            "  \"Default grid_sample and affine_grid behavior has changed \"\n"
          ]
        },
        {
          "output_type": "display_data",
          "data": {
            "image/png": "[encoded data removed]",
            "text/plain": [
              "<Figure size 432x288 with 2 Axes>"
            ]
          },
          "metadata": {
            "needs_background": "light"
          }
        }
      ],
      "source": [
        "from utils import visualize_stn\n",
        "\n",
        "# Visualize the STN transformation on some input batch\n",
        "visualize_stn(model, test_loader, device)\n",
        "plt.ioff()\n",
        "plt.show()"
      ]
    },
    {
      "cell_type": "markdown",
      "metadata": {
        "id": "yJB6mn0JqW2W"
      },
      "source": [
        ""
      ]
    },
    {
      "cell_type": "code",
      "source": [
        ""
      ],
      "metadata": {
        "id": "ofOTsDxayHqh"
      },
      "execution_count": null,
      "outputs": []
    }
  ],
  "metadata": {
    "language_info": {
      "name": "python"
    },
    "orig_nbformat": 4,
    "colab": {
      "name": "spacial_transformer.ipynb",
      "provenance": [],
      "collapsed_sections": [],
      "include_colab_link": true
    },
    "kernelspec": {
      "name": "python3",
      "display_name": "Python 3"
    },
    "accelerator": "GPU"
  },
  "nbformat": 4,
  "nbformat_minor": 0
}